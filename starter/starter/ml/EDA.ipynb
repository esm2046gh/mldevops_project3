{
 "cells": [
  {
   "cell_type": "code",
   "execution_count": 1,
   "id": "a94eab46",
   "metadata": {},
   "outputs": [],
   "source": [
    "# Fetch the artifact we just created (sample.csv) from W&B and read it with pandas:\n",
    "#import wandb\n",
    "import pandas as pd\n",
    "\n",
    "#run = wandb.init(project=\"nyc_airbnb\", group=\"eda\", save_code=True)\n",
    "#local_path = wandb.use_artifact(\"sample.csv:latest\").file()\n",
    "local_path = '../../data/census_clean.csv'\n",
    "df = pd.read_csv(local_path)"
   ]
  },
  {
   "cell_type": "code",
   "execution_count": null,
   "id": "639cbabf",
   "metadata": {
    "scrolled": true
   },
   "outputs": [],
   "source": [
    "# Using pandas-profiling, create a profile\n",
    "import pandas_profiling\n",
    "\n",
    "profile = pandas_profiling.ProfileReport(df)\n",
    "#profile.to_widgets() <-- This returns TraitError: n_rows and n_columns must be positive integer. Use inst. below instead\n",
    "profile.to_notebook_iframe()"
   ]
  },
  {
   "cell_type": "code",
   "execution_count": null,
   "id": "82044ab1",
   "metadata": {},
   "outputs": [],
   "source": [
    "# from data import process_data\n",
    "# import pandas_profiling\n",
    "\n",
    "# cat_features = [\n",
    "#     \"workclass\",\n",
    "#     \"education\",\n",
    "#     \"marital-status\",\n",
    "#     \"occupation\",\n",
    "#     \"relationship\",\n",
    "#     \"race\",\n",
    "#     \"sex\",\n",
    "#     \"native-country\",\n",
    "# ]\n",
    "# X_data, y_data, encoder, lb = process_data(\n",
    "#     df, categorical_features=cat_features, label=\"salary\", training=True\n",
    "# )\n",
    "\n",
    "# profile = pandas_profiling.ProfileReport(X_data)\n",
    "# profile.to_notebook_iframe()\n",
    "# #profile.to_widgets()"
   ]
  },
  {
   "cell_type": "code",
   "execution_count": null,
   "id": "be559f04",
   "metadata": {},
   "outputs": [],
   "source": []
  },
  {
   "cell_type": "code",
   "execution_count": null,
   "id": "29a40dcd",
   "metadata": {},
   "outputs": [],
   "source": []
  }
 ],
 "metadata": {
  "kernelspec": {
   "display_name": "Python 3 (ipykernel)",
   "language": "python",
   "name": "python3"
  },
  "language_info": {
   "codemirror_mode": {
    "name": "ipython",
    "version": 3
   },
   "file_extension": ".py",
   "mimetype": "text/x-python",
   "name": "python",
   "nbconvert_exporter": "python",
   "pygments_lexer": "ipython3",
   "version": "3.8.12"
  },
  "toc": {
   "base_numbering": 1,
   "nav_menu": {},
   "number_sections": true,
   "sideBar": true,
   "skip_h1_title": false,
   "title_cell": "Table of Contents",
   "title_sidebar": "Contents",
   "toc_cell": false,
   "toc_position": {},
   "toc_section_display": true,
   "toc_window_display": false
  },
  "varInspector": {
   "cols": {
    "lenName": 16,
    "lenType": 16,
    "lenVar": 40
   },
   "kernels_config": {
    "python": {
     "delete_cmd_postfix": "",
     "delete_cmd_prefix": "del ",
     "library": "var_list.py",
     "varRefreshCmd": "print(var_dic_list())"
    },
    "r": {
     "delete_cmd_postfix": ") ",
     "delete_cmd_prefix": "rm(",
     "library": "var_list.r",
     "varRefreshCmd": "cat(var_dic_list()) "
    }
   },
   "types_to_exclude": [
    "module",
    "function",
    "builtin_function_or_method",
    "instance",
    "_Feature"
   ],
   "window_display": false
  }
 },
 "nbformat": 4,
 "nbformat_minor": 5
}
